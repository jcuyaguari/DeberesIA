{
 "cells": [
  {
   "cell_type": "markdown",
   "metadata": {},
   "source": [
    "\n",
    "\n",
    " <img src=\"https://www.universidades.com.ec/logos/original/logo-universidad-politecnica-salesiana.png\" width=\"240\" height=\"420\">\n",
    "         \n",
    "### Juan Canar\n",
    "<h1 align=\"center\">Minimax y Alpha-Beta prunning</h1> "
   ]
  },
  {
   "cell_type": "code",
   "execution_count": 4,
   "metadata": {},
   "outputs": [],
   "source": [
    "from easyAI import TwoPlayersGame, Human_Player, AI_Player, Negamax\n",
    "import numpy as np"
   ]
  },
  {
   "cell_type": "code",
   "execution_count": 3,
   "metadata": {},
   "outputs": [
    {
     "name": "stdout",
     "output_type": "stream",
     "text": [
      "[[0 0 0]\n",
      " [0 0 0]\n",
      " [0 0 0]]\n",
      "\n",
      "Player 1 what do you play ? 2\n",
      "\n",
      "Move #1: player 1 plays 2 :\n",
      "[[0 1 0]\n",
      " [0 0 0]\n",
      " [0 0 0]]\n",
      "\n",
      "Move #2: player 2 plays 1 :\n",
      "[[2 1 0]\n",
      " [0 0 0]\n",
      " [0 0 0]]\n",
      "\n",
      "Player 1 what do you play ? 4\n",
      "\n",
      "Move #3: player 1 plays 4 :\n",
      "[[2 1 0]\n",
      " [1 0 0]\n",
      " [0 0 0]]\n",
      "\n",
      "Move #4: player 2 plays 5 :\n",
      "[[2 1 0]\n",
      " [1 2 0]\n",
      " [0 0 0]]\n",
      "\n",
      "Player 1 what do you play ? 8\n",
      "\n",
      "Move #5: player 1 plays 8 :\n",
      "[[2 1 0]\n",
      " [1 2 0]\n",
      " [0 1 0]]\n",
      "\n",
      "Move #6: player 2 plays 3 :\n",
      "[[2 1 2]\n",
      " [1 2 0]\n",
      " [0 1 0]]\n",
      "\n",
      "Player 1 what do you play ? 6\n",
      "\n",
      "Move #7: player 1 plays 6 :\n",
      "[[2 1 2]\n",
      " [1 2 1]\n",
      " [0 1 0]]\n",
      "\n",
      "Move #8: player 2 plays 7 :\n",
      "[[2 1 2]\n",
      " [1 2 1]\n",
      " [2 1 0]]\n"
     ]
    }
   ],
   "source": [
    "class TresEnRaya(TwoPlayersGame):\n",
    "    \n",
    "    def __init__(self,nplayers):\n",
    "        self.tablero = np.zeros((3,3),dtype = int)\n",
    "        self.nplayer = 1\n",
    "        self.mapa = {}\n",
    "        cont = 1\n",
    "        for i in range(len(self.tablero)):\n",
    "            for j in range(len(self.tablero)):\n",
    "                self.mapa[cont]=(i,j)\n",
    "                cont+=1\n",
    "                \n",
    "        #print(self.mapa)\n",
    "        self.players = nplayers\n",
    "        \n",
    "\n",
    "    def possible_moves(self):\n",
    "        moves = []\n",
    "        cont = 1\n",
    "        for i in range(len(self.tablero)):\n",
    "            for j in range(len(self.tablero)):\n",
    "                if self.tablero[i][j] == 0:\n",
    "                    moves.append(cont)\n",
    "                cont+=1\n",
    "                \n",
    "        #print(moves)\n",
    "        return moves\n",
    "    \n",
    "    def make_move(self,casillero):\n",
    "        pos = self.mapa[casillero]\n",
    "        self.tablero[pos[0]][pos[1]] = self.nplayer\n",
    "        \n",
    "    def unmake_move(self,casillero):\n",
    "        pos = self.mapa[casillero]\n",
    "        self.tablero[pos[0]][pos[1]] = 0\n",
    "        \n",
    "    def lose(self):\n",
    "        for i in range(len(self.tablero)):\n",
    "            if np.all(self.tablero[i,:]==self.nopponent,axis = 0) or np.all(self.tablero[:,i]==self.nopponent,axis = 0):\n",
    "                return True\n",
    "        \n",
    "        \n",
    "        if self.tablero[0][0]==self.nopponent and self.tablero[1][1]==self.nopponent and self.tablero[2][2]==self.nopponent:\n",
    "            return True\n",
    "        \n",
    "        if self.tablero[2][0]==self.nopponent and self.tablero[1][1]==self.nopponent and self.tablero[0][2]==self.nopponent:\n",
    "            return True\n",
    "        \n",
    "        return False\n",
    "    \n",
    "    \n",
    "    def show(self):\n",
    "        print(self.tablero)\n",
    "        \n",
    "        \n",
    "    def scoring(self):\n",
    "        return -100 if self.lose() else 0\n",
    "\n",
    "        \n",
    "    def is_over(self):\n",
    "        return (self.possible_moves() == [] or self.lose())\n",
    "            \n",
    "    \n",
    "if __name__==\"__main__\":\n",
    "    ai_algo = Negamax(6)\n",
    "    tresenraya = TresEnRaya([Human_Player(),AI_Player(ai_algo)])\n",
    "    tresenraya.play()"
   ]
  },
  {
   "cell_type": "markdown",
   "metadata": {},
   "source": [
    "<h1 aling=\"center\">  Realizar una investigación sobre el algoritmo Minimax y Alpha-Beta prunning </h1>\n"
   ]
  },
  {
   "cell_type": "markdown",
   "metadata": {},
   "source": [
    "### Que es minimax?\n",
    "---\n",
    "Minimax es un método de decisión para minimizar la pérdida máxima esperada en juegos con adversario y con información perfecta. Minimax es un algoritmo recursivo. **John von Neumann es el creador del teorema minimax**\n",
    "Un procedimiento recursivo y el corte de la recursión está dado por alguna de las siguientes condiciones: Gana algún jugador Se han explorado N capas, siendo N el límite establecido Se ha agotado el tiempo de exploración Se ha llegado a una situación estática donde no hay grandes cambios de un nivel a otro.\n",
    "En simples palabras el algoritmo de minimax consiste en la elección del mejor movimiento para el computador, suponiendo que el contrincante escogerá uno que lo pueda perjudicar, para escoger la mejor opción este algoritmo realiza un **árbol de búsqueda con todos los posibles movimientos, luego recorre todo el árbol de soluciones del juego a partir de un estado dado, es decir, según las casillas que ya han sido rellenadas.** Por tanto, minimax se ejecutará cada vez que le toque mover a la IA.\n",
    "\n",
    "**Espacio de busqueda queda definido por:** \n",
    "* Estado inicial: es decir estado en el que el juego inicia\n",
    "* Operadores: Corresponde a las jugadas legales que se pueden hacer en el juego.\n",
    "* Condición Terminal: Determina cuando el juego se acabó, es decir cuando unos de los dos gano.\n",
    "* Función de Utilidad: Da un valor numérico a una configuración final de un juego. En un juego en donde se puede ganar, perder o empatar, los valores pueden ser 1, 0, o -1.\n",
    "\n",
    "---\n",
    "**Implementación Minimax: Los pasos que sigue minimax pueden variar, pero lo importante es tener una idea clara de cómo es su funcionamiento, los pasos a seguir son:**\n",
    "* El algoritmo primero generar un árbol de soluciones completo a partir de un nodo dado.\n",
    "* Para cada nodo final, buscamos la función de utilidad de estos. Es decir por ejemplo usaremos un 0 para las partidas que terminen en empate, un 1 para las que gane la IA y un -1 para las que gane el jugador humano. \n",
    "* Y lo que hará el algoritmo Minimax cuando vaya regresando hacia atrás, será comunicarle a la llamada recursiva superior cuál es el mejor nodo hoja alcanzado hasta el momento. Cada llamada recursiva tiene que saber a quién le toca jugar, para analizar si el movimiento realizado pertenece a la IA o al otro jugador, ya que cuando sea el turno de la IA nos interesa MAXIMIZAR el resultado, y cuando sea el turno del rival MINIMIZAR su resultado. Al final el algoritmo nos devolverá la jugada que debe realizar la máquina para maximizar sus posibilidades y bloquear las posibilidades del rival.\n",
    "---\n",
    "### Que es Alpha-beta pruning?\n",
    "\n",
    "La poda alfa beta es una técnica de búsqueda que reduce el número de nodos evaluados en un árbol de juego por el algoritmo Minimax. Se trata de una técnica muy utilizada en programas de juegos entre adversarios como el ajedrez, el tres en raya o el Go. \n",
    "\n",
    "Entre los pioneros en el uso de esta técnica encontramos a Arthur Samuel, D.J Edwards y T.P. Hart,1​ Alan Kotok,2​ Alexander Brudno,3​ Donald Knuth y Ronald W. Moore4​\n",
    "\n",
    "El problema de la búsqueda Minimax es que el número de estados a explorar es exponencial al número de movimientos. Partiendo de este hecho, la técnica de poda alfa-beta trata de eliminar partes grandes del árbol, aplicándolo a un árbol Minimax estándar, de forma que se devuelva el mismo movimiento que devolvería este, gracias a que la poda de dichas ramas no influye en la decisión final. \n",
    "\n",
    "La poda alfa-beta toma dicho nombre de la utilización de dos parámetros que describen los límites sobre los valores hacia atrás que aparecen a lo largo de cada camino.\n",
    "\n",
    "* α es el valor de la mejor opción hasta el momento a lo largo del camino para MAX, esto implicará por lo tanto la elección del valor más alto*\n",
    "* β es el valor de la mejor opción hasta el momento a lo largo del camino para MIN, esto implicará por lo tanto la elección del valor más bajo.*\n",
    "\n",
    "* **Esta búsqueda alfa-beta va actualizando el valor de los parámetros según se recorre el árbol. El método realizará la poda de las ramas restantes cuando el valor actual que se está examinando sea peor que el valor actual de α o β para MAX o MIN, respectivamente.**"
   ]
  },
  {
   "cell_type": "markdown",
   "metadata": {},
   "source": [
    "### Historia de los algoritmos (de acuerdo a lo planteado por Alan Turing para el caso del Minimax)"
   ]
  },
  {
   "cell_type": "markdown",
   "metadata": {},
   "source": [
    "Alan Turing, fue de los primeros que relacionó algoritmo y ordenadores. De hecho, fue de los primeros que imaginó un ordenador tal y como los conocemos. Incluso llegó a pensar que las máquinas podrían pensar, y hasta escribir poemas de amor.\n",
    "\n",
    "La Máquina de Turing no es una máquina que exista en el mundo físico, sino un constructo mental. Consiste en una cinta infinita sobre la que se van haciendo operaciones repetitivas hasta dar soluciones, viene a ser una definición informática del algoritmo y un ordenador, el primero, conceptualizado: “En esencia, es el precursor de los ordenadores: tiene una memoria, unas instrucciones (un programa), unas operaciones elementales, una entrada y una salida”, explica el profesor Peña. Lo más interesante es que es una máquina universal, que puede llevar a cabo cualquier programa que se le ordene. Dentro de los problemas del mundo hay de dos tipos: los que puede resolver una Máquina de Turing (llamados computables) y los que no (los no computables), igual que vemos en el mundo real tareas que pueden realizar las máquinas (cada vez más) y otras que solo pueden realizar los humanos. Todos los ordenadores, tablets, smartphones, etc, que conocemos son máquinas de Turing.\n",
    "\n",
    "Alan M. Turing desarrolló el primer programa de ordenador de la historia para jugar al  ajedrez. Fue a  finales de los años 40, y está descrito en su artículo Digital Computers Applied to Games (que se publicó en el libro Faster than Thought, editado por B. V. Bowden, Pitman, Londres 1953). Allí Turing sienta lo que serán las bases de los programas posteriores de ajedrez por ordenador: la simulación de secuencias de movimientos, la evaluación de los estados finales de esas secuencias y la propagación de esa evaluación a los estados directamente sucesores de la configuración actual de juego."
   ]
  },
  {
   "cell_type": "markdown",
   "metadata": {},
   "source": [
    "### Explicar mediante un ejemplo práctico el funcionamiento del algoritmo."
   ]
  },
  {
   "cell_type": "markdown",
   "metadata": {},
   "source": [
    "\n",
    "<img align=\"right\" src=\"http://2.bp.blogspot.com/-IKHpmXaNP94/VmdVGk8fY1I/AAAAAAAAATA/eaEUIgujv-g/s1600/Minimax2.png\" width=\"240\" height=\"420\">\n",
    "\n",
    "Para explicar de una mejor manera se realizara con el ejemplo con tres jugadores en donde cada uno tendrá asignado un nodo, este para poder obtener el estado terminal tendrá que hacer uso de la función de utilidades la cual nos va a devolver un vector de utilidades, seguido de esto tendremos que analizar los estados no terminales para reconocer los movimientos que nos conducirán hacia un estado terminal con utilidades, se podría decir que el valor hacia atrás de un nodo será el vector de utilidades de cualquier estado sucesor que tiene el valor más alto para cada jugador.\n",
    "\n",
    "<img align=\"left\" src=\"http://2.bp.blogspot.com/-4TDM-Zva2mc/VmdURQolfHI/AAAAAAAAASw/isOpbnjYxwc/s1600/11.png\" width=\"490\" height=\"720\">"
   ]
  },
  {
   "cell_type": "markdown",
   "metadata": {},
   "source": [
    "\n",
    "* Inicialice alpha = -infinity y beta = infinity como los peores casos posibles. La condición para podar un nodo es cuando alfa se vuelve mayor o igual que beta.\n",
    "  \n",
    "<img align=\"left\" src=\"https://blog-c7ff.kxcdn.com/blog/wp-content/uploads/2017/03/alpha-beta-pruning-1.jpg\" width=\"490\" height=\"720\">\n",
    "\n",
    "* Comience asignando los valores iniciales de alfa y beta a la raíz y, dado que alfa es menor que beta, no podemos eliminarlo.\n",
    "* Lleve estos valores de alfa y beta al nodo secundario a la izquierda. Y ahora desde el valor de utilidad del estado del terminal, actualizaremos los valores de alpha y be, para que no tengamos que actualizar el valor de beta. Nuevamente, no podemos podar porque la condición sigue siendo la misma. Del mismo modo, el tercer nodo hijo también. Y luego retrocediendo a la raíz establecemos alpha = 3 porque ese es el valor mínimo que alpha puede tener.\n",
    "<img align=\"right\" src=\"https://blog-c7ff.kxcdn.com/blog/wp-content/uploads/2017/03/Alpha-beta-1.jpg\" width=\"490\" height=\"720\">\n",
    "\n",
    "* Ahora, alfa = 3 y beta = infinito en la raíz. Entonces, no podemos podar. Llevando esto al nodo central, y calculando MIN {2, infinito}, obtenemos alfa = 3 y beta = 2.\n",
    "* Quita el segundo y tercer nodo secundario porque ahora alfa es mayor que beta.\n",
    "* Alfa en la raíz sigue siendo 3 porque es mayor que 2. Llevando esto al nodo secundario más a la derecha, evalúe MIN {infinito, 2} = 2. Actualice beta a 2 y alpha sigue siendo 3.\n",
    "* Quita el segundo y tercer nodo secundario porque ahora alfa es mayor que beta.\n",
    "* Por lo tanto, obtenemos 3, 2, 2 en los nodos MIN izquierdo, central y derecho, respectivamente. Y calculando MAX {3,2,2}, obtenemos 3. Por lo tanto, sin siquiera mirar cuatro hojas podríamos encontrar correctamente la decisión minimax."
   ]
  },
  {
   "cell_type": "markdown",
   "metadata": {},
   "source": [
    "### Revisar al menos 4 papers científicos de aplicaciones prácticas de este algoritmo y su variante."
   ]
  },
  {
   "cell_type": "markdown",
   "metadata": {},
   "source": [
    "##### 1.  https://www.aaai.org/Papers/AAAI/1988/AAAI88-023.pdf\n",
    "##### 2. https://www.sciencedirect.com/science/article/abs/pii/S0004370283800101\n",
    "##### 3. https://www.sciencedirect.com/science/article/abs/pii/S0004370283800101\n",
    "##### 4. http://shelf2.library.cmu.edu/Tech/17700646.pdf"
   ]
  },
  {
   "cell_type": "markdown",
   "metadata": {},
   "source": [
    "---\n",
    "---\n",
    "---\n",
    "<h1 align=\"center\" >Actividad Práctica No. 6a y 6b:</h1>"
   ]
  },
  {
   "cell_type": "markdown",
   "metadata": {},
   "source": [
    "## Desarrollar un mini-juego (tema libre) empleando una de las 2 siguientes alternativas:\n",
    "    easyAI\n",
    "    Universe + GYM\n",
    "#### El juego deberá implementar algún algoritmo de IA y de igual forma, generar un informe de movimientos, puntajes y quién gana la partida. El informe deberá ser cargado junto con el trabajo de revisión del algoritmo MiniMax."
   ]
  },
  {
   "cell_type": "code",
   "execution_count": 9,
   "metadata": {},
   "outputs": [],
   "source": [
    "import pygame\n",
    "import gym\n",
    "import random\n",
    "width=360\n",
    "height=480\n",
    "fps=30\n",
    "white=(255,255,255)\n",
    "black=(0,0,0)\n",
    "red=(255,0,0)\n",
    "green=(0,255,0)\n",
    "blue=(0,0,255)"
   ]
  },
  {
   "cell_type": "code",
   "execution_count": 10,
   "metadata": {},
   "outputs": [],
   "source": [
    "class player1(pygame.sprite.Sprite): \n",
    "    def __init__(self,x,y):\n",
    "        pygame.sprite.Sprite.__init__(self)\n",
    "        self.image=pygame.Surface((50,10))\n",
    "        self.image.fill(green)\n",
    "        self.image.set_colorkey(black)\n",
    "        self.rect=self.image.get_rect()\n",
    "        self.rect.centerx=x\n",
    "        self.rect.bottom=y\n",
    "        \n",
    "    def update(self):\n",
    "        self.speedx=0\n",
    "        keystate=pygame.key.get_pressed()\n",
    "        if keystate[pygame.K_LEFT]:\n",
    "            self.speedx=-5\n",
    "        if keystate[pygame.K_RIGHT]:\n",
    "            self.speedx=5\n",
    "        if self.rect.right>width:\n",
    "            self.rect.right=width  \n",
    "        if self.rect.right<0:\n",
    "            self.rect.left=0\n",
    "        self.rect.x+=self.speedx"
   ]
  },
  {
   "cell_type": "code",
   "execution_count": 11,
   "metadata": {},
   "outputs": [],
   "source": [
    "class player2(pygame.sprite.Sprite):\n",
    "    def __init__(self,x,y):\n",
    "        pygame.sprite.Sprite.__init__(self)\n",
    "        self.image=pygame.Surface((50,10))\n",
    "        self.image.fill(green)\n",
    "        self.image.set_colorkey(black)\n",
    "        self.rect=self.image.get_rect()\n",
    "        self.rect.centerx=x\n",
    "        self.rect.bottom=y+10\n",
    "        \n",
    "    def update(self):\n",
    "        self.speedx=0\n",
    "        keystate=pygame.key.get_pressed()\n",
    "        if keystate[pygame.K_a]:\n",
    "            self.speedx=-5\n",
    "        if keystate[pygame.K_d]:\n",
    "            self.speedx=5\n",
    "        if self.rect.right>width:\n",
    "            self.rect.right=width\n",
    "        if self.rect.right<0:\n",
    "            self.rect.left=0\n",
    "        self.rect.x+=self.speedx\n",
    "\n"
   ]
  },
  {
   "cell_type": "code",
   "execution_count": 12,
   "metadata": {},
   "outputs": [],
   "source": [
    "class Ball(pygame.sprite.Sprite):\n",
    "    def __init__(self):\n",
    "        pygame.sprite.Sprite.__init__(self)\n",
    "        self.image=pygame.Surface((20,20))\n",
    "        self.image.fill(white)\n",
    "        self.image.set_colorkey(black)\n",
    "        self.rect=self.image.get_rect()\n",
    "        self.rect.centerx=width/3\n",
    "        self.rect.bottom=height/2\n",
    "        self.speedy=5\n",
    "        self.speedx=0\n",
    "    def update(self):\n",
    "        self.rect.bottom+=self.speedy\n",
    "        self.rect.centerx+=self.speedx\n",
    "        if self.rect.bottom>height:\n",
    "            self.speedy=-5\n",
    "        if self.rect.top<0:\n",
    "            self.speedy=5\n",
    "        if self.rect.right>width or self.rect.centerx<-10:\n",
    "            self.speedx=-self.speedx    \n",
    "    def deflect1(self,other):\n",
    "        if self.rect.bottom<475:\n",
    "            r=other.rect.centerx\n",
    "            self.speedx=5*(180-r)/100 +random.randrange(-1,1)\n",
    "            self.speedy=-self.speedy\n",
    "    def deflect2(self,other):\n",
    "        if self.rect.bottom>5:\n",
    "            r=other.rect.centerx\n",
    "            self.speedx=(-5)*(r-180)/100+random.randrange(-1,1)\n",
    "            self.speedy=-self.speedy"
   ]
  },
  {
   "cell_type": "code",
   "execution_count": 13,
   "metadata": {},
   "outputs": [
    {
     "data": {
      "text/plain": [
       "<function pygame.base.quit>"
      ]
     },
     "execution_count": 13,
     "metadata": {},
     "output_type": "execute_result"
    }
   ],
   "source": [
    "pygame.init()\n",
    "pygame.mixer.init()\n",
    "screen=pygame.display.set_mode((width,height))\n",
    "pygame.display.set_caption(\"PONG\")\n",
    "clock=pygame.time.Clock()\n",
    "all_sprites=pygame.sprite.Group() \n",
    "balls=pygame.sprite.Group()\n",
    "goodplayer=player1(0,480)\n",
    "badplayer=player2(100,0)\n",
    "ball=Ball()\n",
    "all_sprites.add(goodplayer)\n",
    "all_sprites.add(badplayer)\n",
    "all_sprites.add(ball)\n",
    "balls.add(ball)\n",
    "running = True\n",
    "count1=0\n",
    "count2=0\n",
    "while running:\n",
    "    clock.tick(fps)\n",
    "    for event in pygame.event.get():\n",
    "        if event.type==pygame.QUIT:\n",
    "            running=False\n",
    "    all_sprites.update()\n",
    "    hits1=pygame.sprite.spritecollide(goodplayer,balls,False)\n",
    "    hits2=pygame.sprite.spritecollide(badplayer,balls,False)\n",
    "    if hits1:\n",
    "        ball.deflect1(goodplayer)\n",
    "        count1+=1\n",
    "    if hits2:\n",
    "        ball.deflect2(badplayer)\n",
    "        count2+=1\n",
    "    if count1>count2+1000 or count2>count1+1000:\n",
    "        running=False\n",
    "    screen.fill(black)\n",
    "    all_sprites.draw(screen)\n",
    "    pygame.display.flip()  \n",
    "pygame.quit\n",
    "\n"
   ]
  },
  {
   "cell_type": "markdown",
   "metadata": {},
   "source": [
    "<img src=\"https://github.com/jcuyaguari/DeberesIA/blob/master/SegundoInterciclo/Pin.png\" width=\"240\" height=\"420\">"
   ]
  },
  {
   "cell_type": "markdown",
   "metadata": {},
   "source": [
    "#### JUEGO"
   ]
  },
  {
   "cell_type": "markdown",
   "metadata": {},
   "source": [
    "#### CONCLUSIONES\n",
    "Estos algoritmos son de suma importancia para los problemas de arboles de juegos, cada uno a sido diseñado para que los agentes puedan desenvolverse sin dificultades, el algoritmo Minimax  trata de minimizar la perdida contra adversarios en juegos, para ello hace uso de un cálculo recurrente de cada uno de sus estados sucesores para elegir el mejor movimiento mientras que el algoritmo Poda Alfa-Beta es una version mejorada del algortimo Minimax"
   ]
  },
  {
   "cell_type": "markdown",
   "metadata": {},
   "source": [
    "### Bibliografia\n",
    "1. https://ccc.inaoep.mx/~emorales/Cursos/Busqueda/node44.html\n",
    "2. Russell, S., Norvig, P. 2008. Inteligencia Artificial Un Enfoque Moderno. Segunda Edición. Pearson Education. España"
   ]
  }
 ],
 "metadata": {
  "kernelspec": {
   "display_name": "Python 3",
   "language": "python",
   "name": "python3"
  },
  "language_info": {
   "codemirror_mode": {
    "name": "ipython",
    "version": 3
   },
   "file_extension": ".py",
   "mimetype": "text/x-python",
   "name": "python",
   "nbconvert_exporter": "python",
   "pygments_lexer": "ipython3",
   "version": "3.7.6"
  }
 },
 "nbformat": 4,
 "nbformat_minor": 4
}
